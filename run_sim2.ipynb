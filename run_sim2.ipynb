{
 "cells": [
  {
   "cell_type": "code",
   "execution_count": 1,
   "metadata": {
    "collapsed": false
   },
   "outputs": [],
   "source": [
    "import numpy as np\n",
    "import matplotlib.pyplot as plt\n",
    "import matplotlib\n",
    "import time\n",
    "import sys\n",
    "%matplotlib inline\n",
    "\n",
    "# To sample the diffusion-weighted directions\n",
    "from dipy.core.sphere import disperse_charges, Sphere, HemiSphere\n",
    "\n",
    "# To reconstruct the tables with the acquisition information\n",
    "from dipy.core.gradients import gradient_table\n",
    "\n",
    "# To perform the monte-carlo simulations\n",
    "from dipy.sims.voxel import multi_tensor\n",
    "\n",
    "# To process the diffusion tensor\n",
    "import dipy.reconst.dti as dti\n",
    "\n",
    "# Importing procedures to fit the free water elimination DTI model\n",
    "from functions import (wls_fit_tensor, nlls_fit_tensor)"
   ]
  },
  {
   "cell_type": "code",
   "execution_count": 2,
   "metadata": {
    "collapsed": false
   },
   "outputs": [],
   "source": [
    "# ---------------------------------------------------------------\n",
    "# acquisition parameters\n",
    "# ---------------------------------------------------------------\n",
    "\n",
    "# Sample 32 diffusion-weighted directions\n",
    "n_pts = 32\n",
    "theta = np.pi * np.random.rand(n_pts)\n",
    "phi = 2 * np.pi * np.random.rand(n_pts)\n",
    "hsph_initial = HemiSphere(theta=theta, phi=phi)\n",
    "hsph_updated, potential = disperse_charges(hsph_initial, 5000)\n",
    "directions = hsph_updated.vertices # directions for each shell\n",
    "\n",
    "# Parameters of the 7x12 full acquisitions\n",
    "# (6 b-values = 0, 32 directions for each b-values 500 and 1500)\n",
    "bvecs = np.vstack((np.zeros((6, 3)), directions, directions))\n",
    "bmin = np.linspace(200, 800, num=7)\n",
    "bmax = np.linspace(300, 1500, num=13)\n",
    "\n",
    "# SNR is adjusted as function of bmax\n",
    "SNR = 15.0\n",
    "T2 = 70.0\n",
    "TE = np.array([64.0, 65.0, 66.0, 68.0, 69.0, 70.0, 71.0,\n",
    "               71.0, 72.0, 73.0, 74.0, 75.0, 75.0])\n",
    "sf = 1. / np.exp(-TE[7]/T2)"
   ]
  },
  {
   "cell_type": "code",
   "execution_count": 3,
   "metadata": {
    "collapsed": false
   },
   "outputs": [],
   "source": [
    "# ---------------------------------------------------------------\n",
    "# Ground truth values of tissue's diffusion tensor and\n",
    "# water volume fraction\n",
    "# ---------------------------------------------------------------\n",
    "\n",
    "# free water component\n",
    "F = 0.50\n",
    "Dwater = 3e-3\n",
    "\n",
    "# tissue component\n",
    "FA = 0.712\n",
    "L1 = 1.6e-3 \n",
    "L2 = 0.5e-3\n",
    "L3 = 0.3e-3\n",
    "TRACE = 2.4e-3\n",
    "\n",
    "# simulations are repeated for 120 different diffusion tensor's\n",
    "# directions (and each direction repeated 100 times)\n",
    "nDTdirs = 120\n",
    "theta = np.pi * np.random.rand(nDTdirs)\n",
    "phi = 2 * np.pi * np.random.rand(nDTdirs)\n",
    "hsph_initial = HemiSphere(theta=theta, phi=phi)\n",
    "hsph_updated, potential = disperse_charges(hsph_initial, 5000)\n",
    "DTdirs = hsph_updated.vertices # directions for each shell\n",
    "\n",
    "nrep = 100  # number of repetitions for each direction\n",
    "\n",
    "# Prepare parameters for simulations\n",
    "mevals = np.array([[L1, L2, L3], [Dwater, Dwater, Dwater]])\n",
    "fractions = [100 - F*100, F*100]"
   ]
  },
  {
   "cell_type": "code",
   "execution_count": null,
   "metadata": {
    "collapsed": false
   },
   "outputs": [
    {
     "name": "stdout",
     "output_type": "stream",
     "text": [
      "0.230769%"
     ]
    }
   ],
   "source": [
    "# ---------------------------------------------------------------\n",
    "# Generate simulations\n",
    "# ---------------------------------------------------------------\n",
    "\n",
    "DWI_simulates = np.zeros((bmin.size, bmax.size, nDTdirs * nrep, bvecs.shape[0]))\n",
    "\n",
    "for bmax_i in range(bmax.size):\n",
    "    # Adjust SNR\n",
    "    SNRa = SNR * sf * np.exp(-TE[bmax_i]/T2)\n",
    "    for bmin_i in range(bmin.size):\n",
    "        # Perform only simulations that make sense (i.e bmax > bmin )\n",
    "        if bmax[bmax_i] > bmin[bmin_i]:\n",
    "            # Generate a specific acquisition table\n",
    "            bvals = np.hstack((np.zeros(6), bmin[bmin_i]*np.ones(n_pts),\n",
    "                               bmax[bmax_i]*np.ones(n_pts)))\n",
    "            gtab = gradient_table(bvals, bvecs)\n",
    "            design_matrix = dti.design_matrix(gtab)\n",
    "            for di in range(nDTdirs):\n",
    "                d = DTdirs[di]\n",
    "                for s_i in np.arange(di * nrep, (di+1) * nrep):\n",
    "                    signal, sticks = multi_tensor(gtab, mevals, S0=100,\n",
    "                                                  angles=[d, (1, 0, 0)],\n",
    "                                                  fractions=fractions, snr=SNRa)\n",
    "                    DWI_simulates[bmin_i, bmax_i, s_i, :] = signal\n",
    "    prog = (bmax_i+1.0) / bmax.size\n",
    "    time.sleep(1)\n",
    "    sys.stdout.write(\"\\r%f%%\" % prog)\n",
    "    sys.stdout.flush()"
   ]
  },
  {
   "cell_type": "code",
   "execution_count": 7,
   "metadata": {
    "collapsed": false
   },
   "outputs": [
    {
     "name": "stdout",
     "output_type": "stream",
     "text": [
      "586.524999857\n"
     ]
    }
   ],
   "source": [
    "# ---------------------------------------------------------------\n",
    "# fit the free water elimination DTI model\n",
    "# ---------------------------------------------------------------\n",
    "\n",
    "# find S0 from data\n",
    "S0 = np.mean(DWI_simulates[:, :, :, bvals==0], axis=3)\n",
    "# Select the cases that bmax > bmin\n",
    "mask = S0 > 0\n",
    "\n",
    "t0 = time.time()\n",
    "# WLLS procedures is used to estimate parameters initial guess\n",
    "fw_params_initial = wls_fit_tensor(design_matrix, DWI_simulates,\n",
    "                                   Diso=Dwater, S0=S0, mask=mask)\n",
    "print(time.time() - t0)"
   ]
  },
  {
   "cell_type": "code",
   "execution_count": 8,
   "metadata": {
    "collapsed": false
   },
   "outputs": [
    {
     "name": "stderr",
     "output_type": "stream",
     "text": [
      "C:\\Users\\Rafael\\Anaconda\\lib\\site-packages\\scipy\\optimize\\minpack.py:427: RuntimeWarning: Number of calls to function has reached maxfev = 1800.\n",
      "  warnings.warn(errors[info][0], RuntimeWarning)\n",
      "functions.py:369: RuntimeWarning: divide by zero encountered in log\n",
      "  start_params = np.concatenate((dt, [-np.log(s0), f]), axis=0)\n"
     ]
    },
    {
     "name": "stdout",
     "output_type": "stream",
     "text": [
      "10698.859\n"
     ]
    }
   ],
   "source": [
    "fw_params = fw_params_initial.copy()\n",
    "\n",
    "t0 = time.time()\n",
    "# NLLS procedures is used to find final parameters guess\n",
    "fw_params = nlls_fit_tensor(design_matrix, DWI_simulates, \n",
    "                            fw_params=fw_params, Diso=Dwater,\n",
    "                            cholesky=True, f_transform=True,\n",
    "                            mask=mask)\n",
    "print(time.time() - t0)"
   ]
  },
  {
   "cell_type": "code",
   "execution_count": 39,
   "metadata": {
    "collapsed": false
   },
   "outputs": [
    {
     "ename": "TypeError",
     "evalue": "'AxesSubplot' object is not iterable",
     "output_type": "error",
     "traceback": [
      "\u001b[1;31m---------------------------------------------------------------------------\u001b[0m",
      "\u001b[1;31mTypeError\u001b[0m                                 Traceback (most recent call last)",
      "\u001b[1;32m<ipython-input-39-bf42857a61d5>\u001b[0m in \u001b[0;36m<module>\u001b[1;34m()\u001b[0m\n\u001b[0;32m     27\u001b[0m \u001b[0mfig\u001b[0m\u001b[1;33m.\u001b[0m\u001b[0msubplots_adjust\u001b[0m\u001b[1;33m(\u001b[0m\u001b[0mwspace\u001b[0m\u001b[1;33m=\u001b[0m\u001b[1;36m0.2\u001b[0m\u001b[1;33m)\u001b[0m\u001b[1;33m\u001b[0m\u001b[0m\n\u001b[0;32m     28\u001b[0m \u001b[1;33m\u001b[0m\u001b[0m\n\u001b[1;32m---> 29\u001b[1;33m \u001b[0mfig\u001b[0m\u001b[1;33m,\u001b[0m \u001b[0max\u001b[0m \u001b[1;33m=\u001b[0m \u001b[0mplt\u001b[0m\u001b[1;33m.\u001b[0m\u001b[0msubplot\u001b[0m\u001b[1;33m(\u001b[0m\u001b[1;36m1\u001b[0m\u001b[1;33m,\u001b[0m \u001b[1;36m3\u001b[0m\u001b[1;33m,\u001b[0m \u001b[1;36m1\u001b[0m\u001b[1;33m)\u001b[0m\u001b[1;33m\u001b[0m\u001b[0m\n\u001b[0m\u001b[0;32m     30\u001b[0m \u001b[0mplt\u001b[0m\u001b[1;33m.\u001b[0m\u001b[0mpcolormesh\u001b[0m\u001b[1;33m(\u001b[0m\u001b[0mBmax\u001b[0m\u001b[1;33m,\u001b[0m \u001b[0mBmin\u001b[0m\u001b[1;33m,\u001b[0m \u001b[0mrmsef\u001b[0m\u001b[1;33m,\u001b[0m \u001b[0mcmap\u001b[0m\u001b[1;33m=\u001b[0m\u001b[1;34m'Reds'\u001b[0m\u001b[1;33m)\u001b[0m\u001b[1;33m\u001b[0m\u001b[0m\n\u001b[0;32m     31\u001b[0m \u001b[0mplt\u001b[0m\u001b[1;33m.\u001b[0m\u001b[0maxis\u001b[0m\u001b[1;33m(\u001b[0m\u001b[1;33m[\u001b[0m\u001b[1;36m300\u001b[0m\u001b[1;33m,\u001b[0m \u001b[1;36m1500\u001b[0m\u001b[1;33m,\u001b[0m \u001b[1;36m800\u001b[0m\u001b[1;33m,\u001b[0m \u001b[1;36m200\u001b[0m\u001b[1;33m]\u001b[0m\u001b[1;33m)\u001b[0m\u001b[1;33m\u001b[0m\u001b[0m\n",
      "\u001b[1;31mTypeError\u001b[0m: 'AxesSubplot' object is not iterable"
     ]
    },
    {
     "data": {
      "image/png": "[encoded data removed]",
      "text/plain": [
       "<matplotlib.figure.Figure at 0x12933eb8>"
      ]
     },
     "metadata": {},
     "output_type": "display_data"
    }
   ],
   "source": [
    "# ---------------------------------------------------------------\n",
    "# Process diffusion tensor standard measures and plot\n",
    "# ---------------------------------------------------------------\n",
    "\n",
    "evals = fw_params[..., :3]\n",
    "\n",
    "f = fw_params[..., 12]\n",
    "fa = dti.fractional_anisotropy(evals)\n",
    "trace = np.sum(evals, axis=3)\n",
    "\n",
    "df2 = np.square(f - F)\n",
    "dfa2 = np.square(fa - FA)\n",
    "dtrace2 = np.square(trace - TRACE)\n",
    "\n",
    "msef = np.sum(df2, axis=2) / (nrep*nDTdirs)\n",
    "msefa = np.sum(dfa2, axis=2) / (nrep*nDTdirs)\n",
    "msetrace = np.sum(dtrace2, axis=2) / (nrep*nDTdirs)\n",
    "\n",
    "# Reciprocal scaled\n",
    "rmsef = 1 - (msef-np.min(msef)) / (np.max(msef)-np.min(msef))\n",
    "rmsefa = 1 - (msefa-np.min(msefa)) / (np.max(msefa)-np.min(msefa))\n",
    "rmsetrace = 1 - (msetrace-np.min(msetrace)) / (np.max(msetrace)-np.min(msetrace))\n",
    "\n",
    "# plot\n",
    "Bmax, Bmin = np.meshgrid(bmax, bmin)\n",
    "fig = plt.figure(figsize = (15, 2.2))\n",
    "fig.subplots_adjust(wspace=0.2)\n",
    "\n",
    "plt.subplot(1, 3, 1)\n",
    "plt.pcolormesh(Bmax, Bmin, rmsef, cmap='Reds')\n",
    "plt.axis([300, 1500, 800, 200])\n",
    "plt.colorbar()\n",
    "plt.xlabel('Maxinum b-value (s/mm2)')\n",
    "plt.ylabel('Mininum b-value (s/mm2)')\n",
    "\n",
    "plt.subplot(1, 3, 2)\n",
    "plt.pcolormesh(Bmax, Bmin, rmsefa, cmap='Reds')\n",
    "plt.axis([300, 1500, 800, 200])\n",
    "plt.colorbar()\n",
    "plt.xlabel('Maxinum b-value (s/mm2)')\n",
    "plt.ylabel('Mininum b-value (s/mm2)')\n",
    "\n",
    "plt.subplot(1, 3, 3)\n",
    "plt.pcolormesh(Bmax, Bmin, rmsetrace, cmap='Reds')\n",
    "plt.axis([300, 1500, 800, 200])\n",
    "plt.colorbar()\n",
    "plt.xlabel('Maxinum b-value (s/mm2)')\n",
    "plt.ylabel('Mininum b-value (s/mm2)')\n",
    "\n",
    "plt.show()"
   ]
  },
  {
   "cell_type": "code",
   "execution_count": null,
   "metadata": {
    "collapsed": false
   },
   "outputs": [],
   "source": []
  },
  {
   "cell_type": "code",
   "execution_count": null,
   "metadata": {
    "collapsed": true
   },
   "outputs": [],
   "source": []
  }
 ],
 "metadata": {
  "kernelspec": {
   "display_name": "Python 2",
   "language": "python",
   "name": "python2"
  },
  "language_info": {
   "codemirror_mode": {
    "name": "ipython",
    "version": 2
   },
   "file_extension": ".py",
   "mimetype": "text/x-python",
   "name": "python",
   "nbconvert_exporter": "python",
   "pygments_lexer": "ipython2",
   "version": "2.7.11"
  }
 },
 "nbformat": 4,
 "nbformat_minor": 0
}
