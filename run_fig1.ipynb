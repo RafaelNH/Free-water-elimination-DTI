{
 "cells": [
  {
   "cell_type": "code",
   "execution_count": 1,
   "metadata": {
    "collapsed": false
   },
   "outputs": [],
   "source": [
    "import numpy as np\n",
    "import matplotlib.pyplot as plt\n",
    "import matplotlib\n",
    "%matplotlib inline\n",
    "\n",
    "# To sample the diffusion-weighted directions\n",
    "from dipy.core.sphere import disperse_charges, Sphere, HemiSphere\n",
    "\n",
    "# To reconstruct the tables with the acquisition information\n",
    "from dipy.core.gradients import gradient_table\n",
    "\n",
    "# To perform the monte-carlo simulations\n",
    "from dipy.sims.voxel import multi_tensor\n",
    "\n",
    "# To process the diffusion tensor\n",
    "import dipy.reconst.dti as dti\n",
    "\n",
    "# Importing procedures to fit the free water elimination DTI model\n",
    "from dipy.reconst.fwdti import (wls_fit_tensor, nlls_fit_tensor)"
   ]
  },
  {
   "cell_type": "code",
   "execution_count": 48,
   "metadata": {
    "collapsed": false
   },
   "outputs": [],
   "source": [
    "# ---------------------------------------------------------------\n",
    "# acquisition parameters\n",
    "# ---------------------------------------------------------------\n",
    "\n",
    "# Sample 32 diffusion-weighted directions\n",
    "n_pts = 32\n",
    "theta = np.pi * np.random.rand(n_pts)\n",
    "phi = 2 * np.pi * np.random.rand(n_pts)\n",
    "hsph_initial = HemiSphere(theta=theta, phi=phi)\n",
    "hsph_updated, potential = disperse_charges(hsph_initial, 5000)\n",
    "directions = hsph_updated.vertices # directions for each shell\n",
    "\n",
    "# Parameters of the 7x12 full acquisitions\n",
    "# (6 b-values = 0, 32 directions for each b-values 500 and 1500)\n",
    "bvecs = np.vstack((np.zeros((6, 3)), directions, directions))\n",
    "bmin = np.linspace(200, 800, num=7)\n",
    "bmax = np.linspace(300, 1500, num=13)\n",
    "\n",
    "# SNR should be described as function of bmax\n",
    "SNR = 15.0\n",
    "T2 = 70.0\n",
    "TE = np.array([64.0, 65.0, 66.0, 68.0, 69.0, 70.0, 71.0,\n",
    "               71.0, 72.0, 73.0, 74.0, 75.0, 75.0])\n",
    "sf = 1. / np.exp(-TE[7]/T2)"
   ]
  },
  {
   "cell_type": "code",
   "execution_count": 49,
   "metadata": {
    "collapsed": false
   },
   "outputs": [],
   "source": [
    "# ---------------------------------------------------------------\n",
    "# Ground truth values of tissue's diffusion tensor and\n",
    "# water volume fraction\n",
    "# ---------------------------------------------------------------\n",
    "\n",
    "FA = 0.712\n",
    "L1 = 1.6e-3 \n",
    "L2 = 0.5e-3\n",
    "L3 = 0.3e-3\n",
    "F = 0.50\n",
    "TRACE = 2.4e-3\n",
    "Dwater = 3e-3\n",
    "\n",
    "mevals = np.array([[L1, L2, L3], [Dwater, Dwater, Dwater]])\n",
    "fractions = [100 - F*100, F*100]\n",
    "\n",
    "# ---------------------------------------------------------------\n",
    "# Generate simulations\n",
    "# ---------------------------------------------------------------\n",
    "\n",
    "bvals = np.hstack((np.zeros(6), 500 * np.ones(n_pts),\n",
    "                   1500 * np.ones(n_pts)))\n",
    "\n",
    "\n",
    "nrep = 100  # number of simulation repetitions\n",
    "DWI_simulates = np.zeros((bmin.size, bmax.size, nrep, bvecs.shape[0]))\n",
    "\n",
    "for bmax_i in range(bmax.size):\n",
    "    # Adjust SNR\n",
    "    SNRa = SNR * sf * np.exp(-TE[bmax_i]/T2)\n",
    "    for bmin_i in range(bmin.size):\n",
    "        # Generate a specific acquisition table\n",
    "        bvals = np.hstack((np.zeros(6), bmin[bmin_i]*np.ones(n_pts),\n",
    "                           bmax[bmax_i]*np.ones(n_pts)))\n",
    "        gtab = gradient_table(bvals, bvecs)\n",
    "        design_matrix = dti.design_matrix(gtab)\n",
    "        if bmax_i > bmin_i:\n",
    "            for s_i in range(nrep):\n",
    "                signal, sticks = multi_tensor(gtab, mevals, S0=100,\n",
    "                                              angles=[(0, 0), (0, 0)],\n",
    "                                              fractions=fractions, snr=SNRa)\n",
    "                DWI_simulates[bmin_i, bmax_i, s_i, :] = signal "
   ]
  },
  {
   "cell_type": "code",
   "execution_count": 50,
   "metadata": {
    "collapsed": false
   },
   "outputs": [],
   "source": [
    "# ---------------------------------------------------------------\n",
    "# fit the free water elimination DTI model\n",
    "# ---------------------------------------------------------------\n",
    "\n",
    "# WLLS procedures is used to estimate parameters initial guess\n",
    "fw_params_initial = wls_fit_tensor(design_matrix, DWI_simulates,\n",
    "                                   Diso=Dwater,\n",
    "                                   S0=np.mean(DWI_simulates[:, :, :, bvals==0], axis=3))\n",
    "\n",
    "fw_params = fw_params_initial.copy()"
   ]
  },
  {
   "cell_type": "code",
   "execution_count": 42,
   "metadata": {
    "collapsed": false
   },
   "outputs": [
    {
     "name": "stderr",
     "output_type": "stream",
     "text": [
      "C:\\Users\\Rafael\\dipy\\dipy\\reconst\\fwdti.py:559: FutureWarning: comparison to `None` will result in an elementwise object comparison in the future.\n",
      "  if fw_params==None:\n"
     ]
    },
    {
     "ename": "ValueError",
     "evalue": "The data in this voxel contains only zeros",
     "output_type": "error",
     "traceback": [
      "\u001b[1;31m---------------------------------------------------------------------------\u001b[0m",
      "\u001b[1;31mValueError\u001b[0m                                Traceback (most recent call last)",
      "\u001b[1;32m<ipython-input-42-3baf5b60098f>\u001b[0m in \u001b[0;36m<module>\u001b[1;34m()\u001b[0m\n\u001b[0;32m      1\u001b[0m \u001b[1;31m# NLLS procedures is used to find final parameters guess\u001b[0m\u001b[1;33m\u001b[0m\u001b[1;33m\u001b[0m\u001b[0m\n\u001b[0;32m      2\u001b[0m fw_params = nlls_fit_tensor(design_matrix, DWI_simulates, \n\u001b[1;32m----> 3\u001b[1;33m                             fw_params=fw_params, Diso=Dwater, cholesky=True, f_transform=True)\n\u001b[0m",
      "\u001b[1;32mC:\\Users\\Rafael\\dipy\\dipy\\reconst\\fwdti.pyc\u001b[0m in \u001b[0;36mnlls_fit_tensor\u001b[1;34m(design_matrix, data, fw_params, Diso, weighting, sigma, cholesky, f_transform)\u001b[0m\n\u001b[0;32m    568\u001b[0m     \u001b[1;32mfor\u001b[0m \u001b[0mvox\u001b[0m \u001b[1;32min\u001b[0m \u001b[0mrange\u001b[0m\u001b[1;33m(\u001b[0m\u001b[0mflat_data\u001b[0m\u001b[1;33m.\u001b[0m\u001b[0mshape\u001b[0m\u001b[1;33m[\u001b[0m\u001b[1;36m0\u001b[0m\u001b[1;33m]\u001b[0m\u001b[1;33m)\u001b[0m\u001b[1;33m:\u001b[0m\u001b[1;33m\u001b[0m\u001b[0m\n\u001b[0;32m    569\u001b[0m         \u001b[1;32mif\u001b[0m \u001b[0mnp\u001b[0m\u001b[1;33m.\u001b[0m\u001b[0mall\u001b[0m\u001b[1;33m(\u001b[0m\u001b[0mflat_data\u001b[0m\u001b[1;33m[\u001b[0m\u001b[0mvox\u001b[0m\u001b[1;33m]\u001b[0m \u001b[1;33m==\u001b[0m \u001b[1;36m0\u001b[0m\u001b[1;33m)\u001b[0m\u001b[1;33m:\u001b[0m\u001b[1;33m\u001b[0m\u001b[0m\n\u001b[1;32m--> 570\u001b[1;33m             \u001b[1;32mraise\u001b[0m \u001b[0mValueError\u001b[0m\u001b[1;33m(\u001b[0m\u001b[1;34m\"The data in this voxel contains only zeros\"\u001b[0m\u001b[1;33m)\u001b[0m\u001b[1;33m\u001b[0m\u001b[0m\n\u001b[0m\u001b[0;32m    571\u001b[0m \u001b[1;33m\u001b[0m\u001b[0m\n\u001b[0;32m    572\u001b[0m         \u001b[0mparams\u001b[0m \u001b[1;33m=\u001b[0m \u001b[0mfw_params\u001b[0m\u001b[1;33m[\u001b[0m\u001b[0mvox\u001b[0m\u001b[1;33m]\u001b[0m\u001b[1;33m\u001b[0m\u001b[0m\n",
      "\u001b[1;31mValueError\u001b[0m: The data in this voxel contains only zeros"
     ]
    }
   ],
   "source": [
    "# NLLS procedures is used to find final parameters guess\n",
    "fw_params = nlls_fit_tensor(design_matrix, DWI_simulates, \n",
    "                            fw_params=fw_params, Diso=Dwater, cholesky=True, f_transform=True)"
   ]
  },
  {
   "cell_type": "code",
   "execution_count": 51,
   "metadata": {
    "collapsed": false
   },
   "outputs": [
    {
     "data": {
      "image/png": "[encoded data removed]",
      "text/plain": [
       "<matplotlib.figure.Figure at 0xce7ef60>"
      ]
     },
     "metadata": {},
     "output_type": "display_data"
    }
   ],
   "source": [
    "# ---------------------------------------------------------------\n",
    "# Process diffusion tensor standard measures and plot\n",
    "# ---------------------------------------------------------------\n",
    "\n",
    "evals = fw_params[..., :3]\n",
    "\n",
    "f = fw_params[..., 12]\n",
    "fa = dti.fractional_anisotropy(evals)\n",
    "trace = np.sum(evals, axis=3)\n",
    "\n",
    "df2 = np.square(f - F)\n",
    "dfa2 = np.square(fa - FA)\n",
    "dtrace2 = np.square(trace - TRACE)\n",
    "\n",
    "msef = np.sum(df2, axis=2) / nrep\n",
    "msefa = np.sum(dfa2, axis=2) / nrep\n",
    "msetrace = np.sum(dtrace2, axis=2) / nrep\n",
    "\n",
    "# Reciprocal scaled\n",
    "msef = 1 - (msef-np.min(msef)) / (np.max(msef)-np.min(msef))\n",
    "msefa = 1 - (msefa-np.min(msefa)) / (np.max(msefa)-np.min(msefa))\n",
    "msetrace = 1 - (msetrace-np.min(msetrace)) / (np.max(msetrace)-np.min(msetrace))\n",
    "\n",
    "fig, axs = plt.subplots(nrows=1, ncols=3)\n",
    "axs[0].imshow(msef, interpolation=\"nearest\")\n",
    "axs[1].imshow(msefa, interpolation=\"nearest\")\n",
    "im = axs[2].imshow(msetrace, interpolation=\"nearest\")\n",
    "fig.colorbar(im)\n",
    "plt.show()"
   ]
  },
  {
   "cell_type": "code",
   "execution_count": null,
   "metadata": {
    "collapsed": false
   },
   "outputs": [],
   "source": []
  },
  {
   "cell_type": "code",
   "execution_count": null,
   "metadata": {
    "collapsed": false
   },
   "outputs": [],
   "source": []
  },
  {
   "cell_type": "code",
   "execution_count": null,
   "metadata": {
    "collapsed": true
   },
   "outputs": [],
   "source": []
  }
 ],
 "metadata": {
  "kernelspec": {
   "display_name": "Python 2",
   "language": "python",
   "name": "python2"
  },
  "language_info": {
   "codemirror_mode": {
    "name": "ipython",
    "version": 2
   },
   "file_extension": ".py",
   "mimetype": "text/x-python",
   "name": "python",
   "nbconvert_exporter": "python",
   "pygments_lexer": "ipython2",
   "version": "2.7.11"
  }
 },
 "nbformat": 4,
 "nbformat_minor": 0
}
