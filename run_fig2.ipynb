{
 "cells": [
  {
   "cell_type": "code",
   "execution_count": 1,
   "metadata": {
    "collapsed": false
   },
   "outputs": [],
   "source": [
    "import numpy as np\n",
    "import matplotlib.pyplot as plt\n",
    "import matplotlib\n",
    "%matplotlib inline\n",
    "\n",
    "# To sample the diffusion-weighted directions\n",
    "from dipy.core.sphere import disperse_charges, Sphere, HemiSphere\n",
    "\n",
    "# To reconstruct the tables with the acquisition information\n",
    "from dipy.core.gradients import gradient_table\n",
    "\n",
    "# To perform the monte-carlo simulations\n",
    "from dipy.sims.voxel import multi_tensor\n",
    "\n",
    "# To process the diffusion tensor\n",
    "import dipy.reconst.dti as dti\n",
    "\n",
    "# Importing procedures to fit the free water elimination DTI model\n",
    "from dipy.reconst.fwdti import (wls_fit_tensor, nlls_fit_tensor)"
   ]
  },
  {
   "cell_type": "code",
   "execution_count": 2,
   "metadata": {
    "collapsed": false
   },
   "outputs": [],
   "source": [
    "# ---------------------------------------------------------------\n",
    "# acquisition parameters\n",
    "# ---------------------------------------------------------------\n",
    "\n",
    "SNR = 40\n",
    "\n",
    "# Sample 32 diffusion-weighted directions\n",
    "n_pts = 32\n",
    "theta = np.pi * np.random.rand(n_pts)\n",
    "phi = 2 * np.pi * np.random.rand(n_pts)\n",
    "hsph_initial = HemiSphere(theta=theta, phi=phi)\n",
    "hsph_updated, potential = disperse_charges(hsph_initial, 5000)\n",
    "directions = hsph_updated.vertices # directions for each shell\n",
    "\n",
    "# Create full dataset parameters\n",
    "# (6 b-values = 0, 32 directions for each b-values 500 and 1500)\n",
    "bvals = np.hstack((np.zeros(6), 500 * np.ones(n_pts), 1500 * np.ones(n_pts)))\n",
    "bvecs = np.vstack((np.zeros((6, 3)), directions, directions))\n",
    "gtab = gradient_table(bvals, bvecs)\n",
    "design_matrix = dti.design_matrix(gtab)"
   ]
  },
  {
   "cell_type": "code",
   "execution_count": 3,
   "metadata": {
    "collapsed": false
   },
   "outputs": [],
   "source": [
    "# ---------------------------------------------------------------\n",
    "# Generate simulations\n",
    "# ---------------------------------------------------------------\n",
    "\n",
    "# Ground truth values of tissue's diffusion tensor and water volume fraction\n",
    "FA = np.array([0., 0.11, 0.22, 0.30, 0.71])\n",
    "L1 = np.array([0.8e-3, 0.900e-3, 1.000e-3, 1.080e-3, 1.6e-03])\n",
    "L2 = np.array([0.8e-3, 0.763e-3, 0.725e-3, 0.695e-3, 0.5e-03])\n",
    "L3 = np.array([0.8e-3, 0.738e-3, 0.675e-3, 0.625e-3, 0.3e-03])\n",
    "VF = np.linspace(0, 100, num=11)\n",
    "Dwater = 3e-3\n",
    "\n",
    "nrep = 100  # number of simulation repetitions\n",
    "DWI_simulates = np.empty((FA.size, VF.size, nrep, bvals.size))\n",
    "\n",
    "for fa_i in range(FA.size):\n",
    "    mevals = np.array([[L1[fa_i], L2[fa_i], L3[fa_i]],\n",
    "                       [Dwater, Dwater, Dwater]])\n",
    "    for vf_i in range(VF.size):\n",
    "        fractions = [100 - VF[vf_i], VF[vf_i]]\n",
    "        for s_i in range(nrep):\n",
    "            signal, sticks = multi_tensor(gtab, mevals, S0=100, angles=[(0, 0), (0, 0)],\n",
    "                                          fractions=fractions, snr=SNR)\n",
    "            DWI_simulates[fa_i, vf_i, s_i, :] = signal "
   ]
  },
  {
   "cell_type": "code",
   "execution_count": 4,
   "metadata": {
    "collapsed": false
   },
   "outputs": [],
   "source": [
    "# ---------------------------------------------------------------\n",
    "# fit the free water elimination DTI model\n",
    "# ---------------------------------------------------------------\n",
    "\n",
    "# WLLS procedures is used to estimate parameters initial guess\n",
    "fw_params_initial = wls_fit_tensor(design_matrix, DWI_simulates, Diso=Dwater)"
   ]
  },
  {
   "cell_type": "code",
   "execution_count": 5,
   "metadata": {
    "collapsed": false
   },
   "outputs": [
    {
     "name": "stderr",
     "output_type": "stream",
     "text": [
      "C:\\Users\\Rafael\\dipy\\dipy\\reconst\\fwdti.py:562: FutureWarning: comparison to `None` will result in an elementwise object comparison in the future.\n",
      "  if fw_params==None:\n",
      "C:\\Users\\Rafael\\dipy\\dipy\\reconst\\fwdti.py:470: RuntimeWarning: overflow encountered in exp\n",
      "  y = (1-f) * np.exp(np.dot(design_matrix, tensor[:7])) + \\\n",
      "C:\\Users\\Rafael\\dipy\\dipy\\reconst\\fwdti.py:473: RuntimeWarning: overflow encountered in exp\n",
      "  tensor[6]])))\n",
      "C:\\Users\\Rafael\\Anaconda\\lib\\site-packages\\scipy\\optimize\\minpack.py:421: RuntimeWarning: Number of calls to function has reached maxfev = 1800.\n",
      "  warnings.warn(errors[info][0], RuntimeWarning)\n"
     ]
    }
   ],
   "source": [
    "# NLLS procedures is used to find final parameters guess\n",
    "fw_params = nlls_fit_tensor(design_matrix, DWI_simulates, \n",
    "                            fw_params=fw_params_initial, Diso=Dwater, cholesky=True)"
   ]
  },
  {
   "cell_type": "code",
   "execution_count": 6,
   "metadata": {
    "collapsed": false
   },
   "outputs": [
    {
     "data": {
      "image/png": "[encoded data removed]",
      "text/plain": [
       "<matplotlib.figure.Figure at 0x35ed0f0>"
      ]
     },
     "metadata": {},
     "output_type": "display_data"
    }
   ],
   "source": [
    "# ---------------------------------------------------------------\n",
    "# Process diffusion tensor standard measures and plot\n",
    "# ---------------------------------------------------------------\n",
    "\n",
    "evals = fw_params[..., :3]\n",
    "fa = dti.fractional_anisotropy(evals)\n",
    "f = fw_params[..., 12]\n",
    "\n",
    "mean_fa = np.empty(VF.size)\n",
    "std_fa = np.empty(VF.size)\n",
    "\n",
    "colors = {0: 'g', 1: 'b', 2: 'black', 3: 'magenta', 4: 'r'}\n",
    "\n",
    "plt.axis([-0.1, 1.2, 0, 1.2])\n",
    "for fa_i in range(FA.size):\n",
    "    for vf_i in range(VF.size):\n",
    "        mean_fa[vf_i] = np.mean(fa[fa_i, vf_i, :])\n",
    "        std_fa[vf_i] = np.std(fa[fa_i, vf_i, :])\n",
    "    plt.errorbar(VF/100, mean_fa, yerr=std_fa, color=colors[fa_i],\n",
    "                 ecolor=colors[fa_i])  \n",
    "        \n",
    "plt.show()"
   ]
  },
  {
   "cell_type": "code",
   "execution_count": 7,
   "metadata": {
    "collapsed": false
   },
   "outputs": [
    {
     "data": {
      "image/png": "[encoded data removed]",
      "text/plain": [
       "<matplotlib.figure.Figure at 0x114b72e8>"
      ]
     },
     "metadata": {},
     "output_type": "display_data"
    }
   ],
   "source": [
    "mean_f = np.empty(VF.size)\n",
    "std_f = np.empty(VF.size)\n",
    "\n",
    "fig, axs = plt.subplots(nrows=1, ncols=2)\n",
    "for idx, fa_i in enumerate([4, 0]):\n",
    "    for vf_i in range(VF.size):\n",
    "        mean_f[vf_i] = np.mean(f[fa_i, vf_i, :])\n",
    "        std_f[vf_i] = np.std(f[fa_i, vf_i, :])\n",
    "    axs[idx].errorbar(VF/100, mean_f, yerr=std_fa, color=colors[fa_i],\n",
    "                 ecolor=colors[fa_i])\n",
    "    axs[idx].set_ylim([-0.1, 1.2])\n",
    "    axs[idx].set_xlim([-0.1, 1.2])"
   ]
  },
  {
   "cell_type": "code",
   "execution_count": null,
   "metadata": {
    "collapsed": false
   },
   "outputs": [],
   "source": []
  },
  {
   "cell_type": "code",
   "execution_count": null,
   "metadata": {
    "collapsed": true
   },
   "outputs": [],
   "source": []
  }
 ],
 "metadata": {
  "kernelspec": {
   "display_name": "Python 2",
   "language": "python",
   "name": "python2"
  },
  "language_info": {
   "codemirror_mode": {
    "name": "ipython",
    "version": 2
   },
   "file_extension": ".py",
   "mimetype": "text/x-python",
   "name": "python",
   "nbconvert_exporter": "python",
   "pygments_lexer": "ipython2",
   "version": "2.7.7"
  }
 },
 "nbformat": 4,
 "nbformat_minor": 0
}
