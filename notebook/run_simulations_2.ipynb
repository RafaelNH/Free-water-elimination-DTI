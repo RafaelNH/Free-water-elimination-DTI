{
 "cells": [
  {
   "cell_type": "markdown",
   "metadata": {},
   "source": [
    "This notebook contains all the code to access the optimal pair of b-values for the fwDTI model (article's Fig. 2).\n",
    "\n",
    "A python file version of this notebook can be found in the code folder.\n",
    "\n",
    "Importing relevant modules:"
   ]
  },
  {
   "cell_type": "code",
   "execution_count": 1,
   "metadata": {
    "collapsed": false
   },
   "outputs": [],
   "source": [
    "import numpy as np\n",
    "import matplotlib.pyplot as plt\n",
    "import matplotlib\n",
    "import time\n",
    "import sys\n",
    "import os \n",
    "%matplotlib inline\n",
    "\n",
    "# Change directory to the code folder\n",
    "os.chdir('..//code')\n",
    "\n",
    "# Functions to sample the diffusion-weighted gradient directions\n",
    "from dipy.core.sphere import disperse_charges, HemiSphere\n",
    "\n",
    "# Function to reconstruct the tables with the acquisition information\n",
    "from dipy.core.gradients import gradient_table\n",
    "\n",
    "# Functions to perform simulations based on multi-compartment models\n",
    "from dipy.sims.voxel import multi_tensor\n",
    "\n",
    "# Import Dipy's procedures to process diffusion tensor\n",
    "import dipy.reconst.dti as dti\n",
    "\n",
    "# Importing procedures to fit the free water elimination DTI model\n",
    "from functions import nls_fit_tensor"
   ]
  },
  {
   "cell_type": "markdown",
   "metadata": {},
   "source": [
    "Defining the acquisition parameters..."
   ]
  },
  {
   "cell_type": "code",
   "execution_count": 2,
   "metadata": {
    "collapsed": false
   },
   "outputs": [],
   "source": [
    "# Sample the spherical cordinates of 32 random diffusion-weighted\n",
    "# directions.\n",
    "n_pts = 32\n",
    "theta = np.pi * np.random.rand(n_pts)\n",
    "phi = 2 * np.pi * np.random.rand(n_pts)\n",
    "\n",
    "# Convert direction to cartesian coordinates. For this, Dipy's\n",
    "# class object HemiSphere is used. Since diffusion possess central\n",
    "# symmetric, this class object also projects the direction to an\n",
    "# Hemisphere.\n",
    "hsph_initial = HemiSphere(theta=theta, phi=phi)\n",
    "\n",
    "# By using a electrostatic potential energy algorithm, the directions\n",
    "# of the HemiSphere class object are moved util them are evenly\n",
    "# distributed in the Hemi-sphere\n",
    "hsph_updated, potential = disperse_charges(hsph_initial, 5000)\n",
    "directions = hsph_updated.vertices\n",
    "\n",
    "# Define a matrix that contains the directions for all b-values\n",
    "bvecs = np.vstack((np.zeros((6, 3)), directions, directions))\n",
    "\n",
    "# Define the minimun and maximum b-values that will be tested\n",
    "bmin = np.linspace(200, 800, num=7)\n",
    "bmax = np.linspace(300, 1500, num=13)\n",
    "\n",
    "# The SNR is defined according to Hoy et al, 2014\n",
    "SNR = 40\n",
    "\n",
    "# According to Hoy et al., the nominal SNR (SNR at b-value=0)\n",
    "# is adjusted according to the maximum b-value from its\n",
    "# associated TE values and assuming white matter T2 values of\n",
    "# 70 ms.\n",
    "T2 = 70.0\n",
    "\n",
    "# Since TE values acquired for the original article were\n",
    "# not provided, the TE values recorded from a 3T Siemmens\n",
    "# Prisma scanner was used instead. These TE values are\n",
    "# saved in the following vector:\n",
    "TE = np.array([64.0, 65.0, 66.0, 68.0, 69.0, 70.0, 71.0,\n",
    "               71.0, 72.0, 73.0, 74.0, 75.0, 75.0])\n",
    "\n",
    "# Correction factor is set such that the acquisition\n",
    "# with maximum b-value=1000 had a scaling factor of 1\n",
    "sf = 1. / np.exp(-TE[7]/T2)"
   ]
  },
  {
   "cell_type": "markdown",
   "metadata": {},
   "source": [
    "Defining the ground truth values for all simulations repetitions..."
   ]
  },
  {
   "cell_type": "code",
   "execution_count": 3,
   "metadata": {
    "collapsed": false
   },
   "outputs": [],
   "source": [
    "# Similarly to the original article, this analysis is performed\n",
    "# for a volume fraction of 0.50\n",
    "F = 0.50\n",
    "\n",
    "# The value of free water diffusion is set to its known value\n",
    "Dwater = 3e-3\n",
    "\n",
    "# Similarly to the original article, this analysis is performed\n",
    "# for a tissue diffusion tensor with high fractional anisotropy\n",
    "FA = 0.712\n",
    "L1 = 1.6e-3\n",
    "L2 = 0.5e-3\n",
    "L3 = 0.3e-3\n",
    "TRACE = 2.4e-3\n",
    "\n",
    "# According to Hoy et al., simulations are repeated for 120 different\n",
    "# diffusion tensor directions (and each direction repeated 100 times).\n",
    "nDTdirs = 120\n",
    "nrep = 100\n",
    "\n",
    "# These directions are sampled using the same procedure used\n",
    "# to evenly sample the diffusion gradient directions\n",
    "theta = np.pi * np.random.rand(nDTdirs)\n",
    "phi = 2 * np.pi * np.random.rand(nDTdirs)\n",
    "hsph_initial = HemiSphere(theta=theta, phi=phi)\n",
    "hsph_updated, potential = disperse_charges(hsph_initial, 5000)\n",
    "DTdirs = hsph_updated.vertices\n",
    "\n",
    "# Prepare parameters for simulations\n",
    "mevals = np.array([[L1, L2, L3], [Dwater, Dwater, Dwater]])\n",
    "fractions = [100 - F*100, F*100]"
   ]
  },
  {
   "cell_type": "markdown",
   "metadata": {},
   "source": [
    "Generating simulations and fwDTI fitting..."
   ]
  },
  {
   "cell_type": "code",
   "execution_count": 4,
   "metadata": {
    "collapsed": false
   },
   "outputs": [
    {
     "name": "stdout",
     "output_type": "stream",
     "text": [
      "100.000000%"
     ]
    },
    {
     "name": "stderr",
     "output_type": "stream",
     "text": [
      "C:\\Users\\Rafael\\Anaconda\\lib\\site-packages\\scipy\\optimize\\minpack.py:427: RuntimeWarning: Number of calls to function has reached maxfev = 900.\n",
      "  warnings.warn(errors[info][0], RuntimeWarning)\n"
     ]
    }
   ],
   "source": [
    "# Initializing a matrix to save all free-water DTI parameters.\n",
    "# The first dimension of this matrix corresponds to the simulation\n",
    "# repetitions for different minimum b-values tested, maximum\n",
    "# b-value tested, diffusion tensor directions. The last dimension\n",
    "# corresponds to the number of model parameters.\n",
    "fw_params = np.zeros((bmin.size, bmax.size,\n",
    "                      nDTdirs * nrep, 13))\n",
    "\n",
    "\n",
    "# Lopping the simulations for the given maxima b-values\n",
    "for bmax_i in range(bmax.size):\n",
    "\n",
    "    # Adjust SNR according to a given maximum b-value\n",
    "    SNRa = SNR * sf * np.exp(-TE[bmax_i]/T2)\n",
    "\n",
    "    # Lopping the simulations for the given minima b-values\n",
    "    for bmin_i in range(bmin.size):\n",
    "\n",
    "        # Perform only simulations that make sense (i.e bmax > bmin )\n",
    "        if bmax[bmax_i] > bmin[bmin_i]:\n",
    "\n",
    "            # Generate Dipy's acquisition table for the given minimum and\n",
    "            # maximum b-values\n",
    "            bvals = np.hstack((np.zeros(6), bmin[bmin_i]*np.ones(n_pts),\n",
    "                               bmax[bmax_i]*np.ones(n_pts)))\n",
    "            gtab = gradient_table(bvals, bvecs)\n",
    "\n",
    "            # Initialize a matrix that will save the data of all\n",
    "            # repetitions for the given pair of minimum-maximun\n",
    "            # b-value\n",
    "            rep_simulates = np.zeros((nDTdirs * nrep, bvecs.shape[0]))\n",
    "\n",
    "            # Repeat simulations for the 120 diffusion gradient directions\n",
    "            for di in range(nDTdirs):\n",
    "                d = DTdirs[di]\n",
    "\n",
    "                # Repeat each direction 100 times\n",
    "                for s_i in np.arange(di * nrep, (di+1) * nrep):\n",
    "\n",
    "                    # Multi-compartmental simulations are done using\n",
    "                    # Dipy's function multi_tensor\n",
    "                    signal, sticks = multi_tensor(gtab, mevals, S0=100,\n",
    "                                                  angles=[d, (1, 0, 0)],\n",
    "                                                  fractions=fractions,\n",
    "                                                  snr=SNRa)\n",
    "                    rep_simulates[s_i, :] = signal\n",
    "\n",
    "            # Process NLS fitting for all simulation repetitions of\n",
    "            # a given pair of minimum-maximun b-value\n",
    "            fw_params[bmin_i, bmax_i, :, :] = nls_fit_tensor(gtab,\n",
    "                                                             rep_simulates)\n",
    "\n",
    "            # Process computing progress\n",
    "            prog = (bmax_i*1.0)/bmax.size + (bmin_i+1.0)/(bmax.size*bmin.size)\n",
    "            prog = prog * 100\n",
    "            time.sleep(1)\n",
    "            sys.stdout.write(\"\\r%f%%\" % prog)\n",
    "            sys.stdout.flush()"
   ]
  },
  {
   "cell_type": "markdown",
   "metadata": {},
   "source": [
    "Compute FA and f-value statistics and save results"
   ]
  },
  {
   "cell_type": "code",
   "execution_count": 7,
   "metadata": {
    "collapsed": false,
    "scrolled": true
   },
   "outputs": [
    {
     "data": {
      "image/png": "[encoded data removed]",
      "text/plain": [
       "<matplotlib.figure.Figure at 0x3c92ef0>"
      ]
     },
     "metadata": {},
     "output_type": "display_data"
    }
   ],
   "source": [
    "# select computed diffusion eigenvalues\n",
    "evals = fw_params[..., :3]\n",
    "\n",
    "# Compute the tissue's diffusion tensor fractional anisotropy\n",
    "# using function fractional_anisotropy of Dipy's module dti\n",
    "fa = dti.fractional_anisotropy(evals)\n",
    "\n",
    "# select computed water volume fraction\n",
    "f = fw_params[..., 12]\n",
    "\n",
    "# Diffusion tensor trace is equal to the sum of eigenvalues\n",
    "trace = np.sum(evals, axis=3)\n",
    "\n",
    "# Compute the squared difference of each diffusion measurement\n",
    "df2 = np.square(f - F)\n",
    "dfa2 = np.square(fa - FA)\n",
    "dtrace2 = np.square(trace - TRACE)\n",
    "\n",
    "# Compute the mean squared error of each diffusion measuremen\n",
    "msef = np.sum(df2, axis=2) / (nrep*nDTdirs)\n",
    "msefa = np.sum(dfa2, axis=2) / (nrep*nDTdirs)\n",
    "msetrace = np.sum(dtrace2, axis=2) / (nrep*nDTdirs)\n",
    "\n",
    "# Compute the reciprocal scaled mean squared error\n",
    "Bmax, Bmin = np.meshgrid(bmax, bmin)\n",
    "\n",
    "msefmin = np.min(msef[Bmax > Bmin])  # MSE F minimun\n",
    "msefamin = np.min(msefa[Bmax > Bmin])  # MSE FA minimun\n",
    "msetracemax = np.max(msetrace[Bmax > Bmin])  # MSE Trace minimun\n",
    "msefmax = np.max(msef[Bmax > Bmin])  # MSE F minimun\n",
    "msefamax = np.max(msefa[Bmax > Bmin])  # MSE FA minimun\n",
    "msetracemin = np.min(msetrace[Bmax > Bmin])  # MSE Trace minimun\n",
    "\n",
    "rmsef = 1 - (msef-msefmin) / (msefmax-msefmin)\n",
    "rmsefa = 1 - (msefa-msefamin) / (msefamax-msefamin)\n",
    "rmsetrace = 1 - (msetrace-msetracemin) / (msetracemax-msetracemin)\n",
    "\n",
    "# Figure setting\n",
    "fig = plt.figure(figsize=(15, 3.5))\n",
    "fig.subplots_adjust(wspace=0.2)\n",
    "\n",
    "# Define the plot's grid edges\n",
    "bmin_edge = np.linspace(150, 850, num=8)\n",
    "bmax_edge = np.linspace(250, 1550, num=14)\n",
    "Bmax_ed, Bmin_ed = np.meshgrid(bmax_edge, bmin_edge)\n",
    "\n",
    "# Plotting he reciprocal scaled mean squared error for the\n",
    "# volume fraction\n",
    "plt.subplot(1, 3, 1)\n",
    "plt.pcolormesh(Bmax_ed, Bmin_ed, rmsef,\n",
    "               vmin=0, vmax=1, cmap='Reds')\n",
    "plt.axis([250, 1550, 850, 150])\n",
    "plt.colorbar()\n",
    "plt.xlabel('Maxinum b-value (s/mm2)')\n",
    "plt.ylabel('Mininum b-value (s/mm2)')\n",
    "\n",
    "# Plotting he reciprocal scaled mean squared error for FA\n",
    "plt.subplot(1, 3, 2)\n",
    "plt.pcolormesh(Bmax_ed, Bmin_ed, rmsefa,\n",
    "               vmin=0, vmax=1, cmap='Reds')\n",
    "plt.axis([250, 1550, 850, 150])\n",
    "plt.colorbar()\n",
    "plt.xlabel('Maxinum b-value (s/mm2)')\n",
    "plt.ylabel('Mininum b-value (s/mm2)')\n",
    "\n",
    "# Plotting he reciprocal scaled mean squared error for diffusion\n",
    "# trace\n",
    "plt.subplot(1, 3, 3)\n",
    "plt.pcolormesh(Bmax_ed, Bmin_ed, rmsetrace,\n",
    "               vmin=0, vmax=1, cmap='Reds')\n",
    "plt.axis([250, 1550, 850, 150])\n",
    "plt.colorbar()\n",
    "plt.xlabel('Maxinum b-value (s/mm2)')\n",
    "plt.ylabel('Mininum b-value (s/mm2)')\n",
    "\n",
    "plt.show()\n",
    "\n",
    "fig.savefig('fwdti_simulations_2.png', bbox_inches='tight')"
   ]
  },
  {
   "cell_type": "markdown",
   "metadata": {},
   "source": [
    "Panels above show that our fwDTI fitting procedures are less dependent on the b-values than the original articles. For a better visualization of the optimal pair of b-values, the figures is ploted again with adjusted color-scale range. "
   ]
  },
  {
   "cell_type": "code",
   "execution_count": 8,
   "metadata": {
    "collapsed": false,
    "scrolled": true
   },
   "outputs": [
    {
     "data": {
      "image/png": "[encoded data removed]",
      "text/plain": [
       "<matplotlib.figure.Figure at 0xef27e10>"
      ]
     },
     "metadata": {},
     "output_type": "display_data"
    }
   ],
   "source": [
    "# Figure setting\n",
    "fig = plt.figure(figsize=(15, 3.5))\n",
    "fig.subplots_adjust(wspace=0.2)\n",
    "\n",
    "# Define the plot's grid edges\n",
    "bmin_edge = np.linspace(150, 850, num=8)\n",
    "bmax_edge = np.linspace(250, 1550, num=14)\n",
    "Bmax_ed, Bmin_ed = np.meshgrid(bmax_edge, bmin_edge)\n",
    "\n",
    "# Plotting he reciprocal scaled mean squared error for the\n",
    "# volume fraction\n",
    "plt.subplot(1, 3, 1)\n",
    "plt.pcolormesh(Bmax_ed, Bmin_ed, rmsef,\n",
    "               vmin=0.9, vmax=1, cmap='Reds')\n",
    "plt.axis([250, 1550, 850, 150])\n",
    "plt.colorbar()\n",
    "plt.xlabel('Maxinum b-value (s/mm2)')\n",
    "plt.ylabel('Mininum b-value (s/mm2)')\n",
    "\n",
    "# Plotting he reciprocal scaled mean squared error for FA\n",
    "plt.subplot(1, 3, 2)\n",
    "plt.pcolormesh(Bmax_ed, Bmin_ed, rmsefa,\n",
    "               vmin=0.9, vmax=1, cmap='Reds')\n",
    "plt.axis([250, 1550, 850, 150])\n",
    "plt.colorbar()\n",
    "plt.xlabel('Maxinum b-value (s/mm2)')\n",
    "plt.ylabel('Mininum b-value (s/mm2)')\n",
    "\n",
    "# Plotting he reciprocal scaled mean squared error for diffusion\n",
    "# trace\n",
    "plt.subplot(1, 3, 3)\n",
    "plt.pcolormesh(Bmax_ed, Bmin_ed, rmsetrace,\n",
    "               vmin=0.9, vmax=1, cmap='Reds')\n",
    "plt.axis([250, 1550, 850, 150])\n",
    "plt.colorbar()\n",
    "plt.xlabel('Maxinum b-value (s/mm2)')\n",
    "plt.ylabel('Mininum b-value (s/mm2)')\n",
    "\n",
    "plt.show()\n",
    "\n",
    "fig.savefig('fwdti_simulations_2_rescaled.png', bbox_inches='tight')"
   ]
  },
  {
   "cell_type": "markdown",
   "metadata": {},
   "source": [
    "In analogous to Hoy et al. (2014), the b-value pair $500-1500 s.mm^{-2}$ seems to be optimal for fwDTI fitting."
   ]
  },
  {
   "cell_type": "code",
   "execution_count": null,
   "metadata": {
    "collapsed": true
   },
   "outputs": [],
   "source": []
  }
 ],
 "metadata": {
  "kernelspec": {
   "display_name": "Python 2",
   "language": "python",
   "name": "python2"
  },
  "language_info": {
   "codemirror_mode": {
    "name": "ipython",
    "version": 2
   },
   "file_extension": ".py",
   "mimetype": "text/x-python",
   "name": "python",
   "nbconvert_exporter": "python",
   "pygments_lexer": "ipython2",
   "version": "2.7.11"
  }
 },
 "nbformat": 4,
 "nbformat_minor": 0
}
