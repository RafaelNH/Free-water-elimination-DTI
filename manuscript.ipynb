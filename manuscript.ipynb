{
 "cells": [
  {
   "cell_type": "markdown",
   "metadata": {},
   "source": [
    "# Re: Optimization of a free water elimination two-compartment model for diffusion tensor imaging."
   ]
  },
  {
   "cell_type": "markdown",
   "metadata": {},
   "source": [
    "## 1. Introduction"
   ]
  },
  {
   "cell_type": "markdown",
   "metadata": {},
   "source": [
    "Diffusion-weighted Magnetic Resonance Imaging (DWI) is a non-invasive biomedical imaging technique that allows us to infer properties of brain tissue microstructures in vivo. Diffusion tensor imaging (DTI), one of the most commonly used DWI techniques, models anisotropy diffusion of tissues using a second-order tensor known as diffusion tensor (DT). DTI-based measures such as the fractional anisotropy (FA) are normally used as an indicator of white matter coherence. However, these measures are not always specific to one particular type of tissue. For example, diffusion anisotropy in regions near the cerebral ventricle and parenchyma can be underestimated by partial volume effects of the cerebral spinal fluid (CSF). To remove the influence of this free water diffusion contamination, the DTI model can be expanded to take into account two compartments representing the diffusion contribution from the tissue and from the CSF. Recently, two procedures were proposed by Hoy and colleagues to fit the free water elimination of DWI data acquired with two or more diffusion gradient-weightings [1]. Although the authors mentioned that their algorithm were implemented \"by a group member with no formal programming training and without optimization for speed\", their evaluation tests showed that the procedures are able to provide diffusion based measures which were stable to different free water contamination degree. In this work, to provide reference implementations of the free water elimination fitting procedures, the two algorithms described by Hoy and colleagues were carefully reviewed and optimized."
   ]
  },
  {
   "cell_type": "markdown",
   "metadata": {},
   "source": [
    "## 2. Methods"
   ]
  },
  {
   "cell_type": "markdown",
   "metadata": {},
   "source": [
    "### 2.1. Procedures Implementation"
   ]
  },
  {
   "cell_type": "markdown",
   "metadata": {},
   "source": [
    "The two procedures based on the work by Hoy and Colleges [1] were implemented here in python. Since no source implementation was previously provided by the authors, all paper’s formulas were carefully re-derived. Two typos were found on the methodology of the first proposed algorithm – the weighted linear least square solution (WLLS). First, the free-water adjusted diffusion-weighted signal formula Methods subsection ‘FWE-DTI’) should be written as:"
   ]
  },
  {
   "cell_type": "markdown",
   "metadata": {},
   "source": [
    "$$y_{ik} = \\ln\\left\\{ \\frac{s_i - s_0 f_k\\exp(-bD_{iso})}{(1-f_k)} \\right \\}$$"
   ]
  },
  {
   "cell_type": "markdown",
   "metadata": {},
   "source": [
    "Second, according to the general linear least squares solution [2], the weighted linear least square solution of the free-water elimination model’s matrix solution should be given as:"
   ]
  },
  {
   "cell_type": "markdown",
   "metadata": {},
   "source": [
    "$$\\gamma = (W^TS^2W)^{-1}W^{T}S^{2}y$$"
   ]
  },
  {
   "cell_type": "markdown",
   "metadata": {},
   "source": [
    "Moreover, to insure that the WLLS method convergences to the local minima, on the second and third iteration to refine the precision the water contamination volume fraction were resampled with steps sizes of ± .1 and ± .01 instead of the step sizes of ± .05 and ± .005 suggested by Hoy and Colleges."
   ]
  },
  {
   "cell_type": "markdown",
   "metadata": {},
   "source": [
    "For the non-linear least square solution (NLLS) of the free water DTI model, the parameters initial guess were adjusted to the values estimated from the WLLS approach as suggested by Hoy and Colleges [1]. "
   ]
  },
  {
   "cell_type": "markdown",
   "metadata": {},
   "source": [
    "### 2.2 Simulations"
   ]
  },
  {
   "cell_type": "markdown",
   "metadata": {},
   "source": [
    "###2.3 Real data testing"
   ]
  },
  {
   "cell_type": "markdown",
   "metadata": {
    "collapsed": true
   },
   "source": [
    "Although some adaptions were made to improve the algorithms robustness and speed performance, our proposed implementation showed to match the performances of the algorithm described by Hoy and colleagues."
   ]
  }
 ],
 "metadata": {
  "kernelspec": {
   "display_name": "Python 2",
   "language": "python",
   "name": "python2"
  },
  "language_info": {
   "codemirror_mode": {
    "name": "ipython",
    "version": 2
   },
   "file_extension": ".py",
   "mimetype": "text/x-python",
   "name": "python",
   "nbconvert_exporter": "python",
   "pygments_lexer": "ipython2",
   "version": "2.7.11"
  }
 },
 "nbformat": 4,
 "nbformat_minor": 0
}
