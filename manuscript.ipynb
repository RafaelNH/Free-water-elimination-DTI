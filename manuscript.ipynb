{
 "cells": [
  {
   "cell_type": "markdown",
   "metadata": {},
   "source": [
    "# Re: Optimization of a free water elimination two-compartment model for diffusion tensor imaging."
   ]
  },
  {
   "cell_type": "markdown",
   "metadata": {},
   "source": [
    "## 1. Introduction"
   ]
  },
  {
   "cell_type": "markdown",
   "metadata": {},
   "source": [
    "Diffusion-weighted Magnetic Resonance Imaging (DWI) is a non-invasive biomedical imaging technique that allows us to infer properties of brain tissue microstructures in vivo. Diffusion tensor imaging (DTI), one of the most commonly used DWI techniques, models anisotropy diffusion of tissues using a second-order tensor known as diffusion tensor (DT). DTI-based measures such as the fractional anisotropy (FA) are normally used as an indicator of white matter coherence. However, these measures are not always specific to one particular type of tissue. For example, diffusion anisotropy in regions near the cerebral ventricle and parenchyma can be underestimated by partial volume effects of the cerebral spinal fluid (CSF). To remove the influence of this free water diffusion contamination, the DTI model can be expanded to take into account two compartments representing the diffusion contributions from the tissue and from the CSF. Recently, two procedures were proposed by Hoy and colleagues to fit the free water elimination of DWI data acquired with two or more diffusion gradient-weightings [1]. Although the authors mentioned that their algorithm were implemented \"by a group member with no formal programming training and without optimization for speed\", their evaluation tests showed that their procedures are able to provide diffusion based measures stable to different free water contamination degree. In this work, the two algorithms described by Hoy and colleagues are reviewed, optimized and tested on simulations performed according also to Hoy and colleagues [1]. Our goal is to provide the first reference implementation of the procedures to fit the free water contamination model optimized for both speed and robustness."
   ]
  },
  {
   "cell_type": "markdown",
   "metadata": {},
   "source": [
    "## 2. Methods"
   ]
  },
  {
   "cell_type": "markdown",
   "metadata": {},
   "source": [
    "### 2.1. Procedures Implementation"
   ]
  },
  {
   "cell_type": "markdown",
   "metadata": {},
   "source": [
    "The two procedures to fit the free water elimination DTI model were implemented here in python. Since no source implementation was previously provided by the Hoy and colleagues, all formulas of the original paper were carefully re-derived. "
   ]
  },
  {
   "cell_type": "markdown",
   "metadata": {},
   "source": [
    "**The Weighted-Linear Least Square Solution (WLLS)**. Two typos were found on the methodology of this proposed algorithm. First, the free-water adjusted diffusion-weighted signal formula Methods subsection ‘FWE-DTI’) should be written as:"
   ]
  },
  {
   "cell_type": "markdown",
   "metadata": {},
   "source": [
    "$$y_{ik} = \\ln\\left\\{ \\frac{s_i - s_0 f_k\\exp(-bD_{iso})}{(1-f_k)} \\right \\}$$"
   ]
  },
  {
   "cell_type": "markdown",
   "metadata": {},
   "source": [
    "Second, according to the general linear least squares solution [2], the weighted linear least square solution of the free-water elimination model’s matrix solution should be given as:"
   ]
  },
  {
   "cell_type": "markdown",
   "metadata": {},
   "source": [
    "$$\\gamma = (W^TS^2W)^{-1}W^{T}S^{2}y$$"
   ]
  },
  {
   "cell_type": "markdown",
   "metadata": {},
   "source": [
    "Moreover, to insure that the WLLS method convergences to the local minima, on the second and third iteration to refine the precision, the water contamination volume fraction were resampled with steps sizes of ± .1 and ± .01 instead of the step sizes of ± .05 and ± .005 suggested by Hoy and Colleges."
   ]
  },
  {
   "cell_type": "markdown",
   "metadata": {},
   "source": [
    "**Non-Linear Least Square Solution (NLLS)**. For the non-linear convergence procedure the parameters initial guest were adjusted to the values estimated from the WLLS approach as suggested by Hoy and Colleges [1]."
   ]
  },
  {
   "cell_type": "markdown",
   "metadata": {},
   "source": [
    "**Implemtation Dependencies**. Both fitting procedures requires also modules from the open source software project Diffusion Imaging (Dipy, http://nipy.org/dipy/) [3]. Although, for this study, the core of each procedure was implemented in separate functions for the models parameter estimation, the DT derived measures (diffusion eigenvalues, and diffusion fractions anisotropy) are processed using the already implemented Dipy’s standard DTI modules."
   ]
  },
  {
   "cell_type": "markdown",
   "metadata": {},
   "source": [
    "### 2.2 Simulations\n",
    "The monte carlos simulations are performed using the multi-tensor simulation model of the open source software project Diffusion Imaging in python (Dipy, http://nipy.org/dipy/)."
   ]
  },
  {
   "cell_type": "markdown",
   "metadata": {},
   "source": [
    "###2.3 Real data testing"
   ]
  },
  {
   "cell_type": "markdown",
   "metadata": {},
   "source": []
  },
  {
   "cell_type": "markdown",
   "metadata": {},
   "source": [
    "## 3. Results"
   ]
  },
  {
   "cell_type": "markdown",
   "metadata": {},
   "source": []
  },
  {
   "cell_type": "markdown",
   "metadata": {},
   "source": [
    "## 4. Conclusion"
   ]
  },
  {
   "cell_type": "markdown",
   "metadata": {
    "collapsed": true
   },
   "source": [
    "Despite the optimizations done, the procedures to solve the free water elimination DTI model implemented here show to have identical performance to the methods described by Hoy and Colleges [1]. Therefore, the majors finding reported by the original article are here confirmed: 1) the water elimination DTI model can be used to remove confounding effects of fast diffusion on the brain; 2) its fit procedures show better performance for voxels with high anisotropy; 3) problematic cases with water volume fractions can be easily identified and removed; 4) the robustness of this model is optimal for acquisition with two b-values of 500 and 1500 s.mm-2 (each sampled with 32 directions)."
   ]
  },
  {
   "cell_type": "markdown",
   "metadata": {},
   "source": [
    "## References"
   ]
  },
  {
   "cell_type": "markdown",
   "metadata": {},
   "source": [
    "[1] Hoy, A.R., Koay, C.G., Kecskemeti, S.R., Alexander, A.L., 2014. Optimization of a free water elimination two-compartment model for diffusion tensor imaging. NeuroImage 103, 323-333. doi: 10.1016/j.neuroimage.2014.09.053\n",
    "\n",
    "[2] Jones, D.K., Cercignani, M., 2010. Twenty-five pitfalls in the analysis of diffusion MRI data. NMR in Biomedicine 23(7), 803-820. doi: 10.1002/nbm.1543.\n",
    "\n",
    "[3] Garyfallidis, E., Brett, M., Amirbekian, B., Rokem, A., van der Walt, S., Descoteaux, M., Nimmo-Smith, I., and Dipy Contributors, 2014. Dipy, a library for the analysis of diffusion MRI data. Frontiers in Neuroinformatics 8 (8). doi: 10.3389/fninf.2014.00008."
   ]
  },
  {
   "cell_type": "code",
   "execution_count": null,
   "metadata": {
    "collapsed": true
   },
   "outputs": [],
   "source": []
  }
 ],
 "metadata": {
  "kernelspec": {
   "display_name": "Python 2",
   "language": "python",
   "name": "python2"
  },
  "language_info": {
   "codemirror_mode": {
    "name": "ipython",
    "version": 2
   },
   "file_extension": ".py",
   "mimetype": "text/x-python",
   "name": "python",
   "nbconvert_exporter": "python",
   "pygments_lexer": "ipython2",
   "version": "2.7.11"
  }
 },
 "nbformat": 4,
 "nbformat_minor": 0
}
