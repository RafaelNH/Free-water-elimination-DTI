{
 "cells": [
  {
   "cell_type": "markdown",
   "metadata": {},
   "source": [
    "Importing relevant modules"
   ]
  },
  {
   "cell_type": "code",
   "execution_count": 1,
   "metadata": {
    "collapsed": false
   },
   "outputs": [],
   "source": [
    "import numpy as np\n",
    "import matplotlib.pyplot as plt\n",
    "import matplotlib\n",
    "import time\n",
    "import sys\n",
    "%matplotlib inline\n",
    "\n",
    "# To sample the diffusion-weighted directions\n",
    "from dipy.core.sphere import disperse_charges, Sphere, HemiSphere\n",
    "\n",
    "# To reconstruct the tables with the acquisition information\n",
    "from dipy.core.gradients import gradient_table\n",
    "\n",
    "# To perform the monte-carlo simulations\n",
    "from dipy.sims.voxel import multi_tensor\n",
    "\n",
    "# To process the diffusion tensor\n",
    "import dipy.reconst.dti as dti\n",
    "\n",
    "# Importing procedures to fit the free water elimination DTI model\n",
    "from functions import nls_fit_tensor"
   ]
  },
  {
   "cell_type": "markdown",
   "metadata": {},
   "source": [
    "Defining the acquisition parameters..."
   ]
  },
  {
   "cell_type": "code",
   "execution_count": 2,
   "metadata": {
    "collapsed": false
   },
   "outputs": [],
   "source": [
    "SNR = 40\n",
    "\n",
    "# Sample 32 diffusion-weighted directions\n",
    "n_pts = 32\n",
    "theta = np.pi * np.random.rand(n_pts)\n",
    "phi = 2 * np.pi * np.random.rand(n_pts)\n",
    "hsph_initial = HemiSphere(theta=theta, phi=phi)\n",
    "hsph_updated, potential = disperse_charges(hsph_initial, 5000)\n",
    "directions = hsph_updated.vertices # directions for each shell\n",
    "\n",
    "# Create full dataset parameters\n",
    "# (6 b-values = 0, 32 directions for each b-values 500 and 1500)\n",
    "bvals = np.hstack((np.zeros(6), 500 * np.ones(n_pts), 1500 * np.ones(n_pts)))\n",
    "bvecs = np.vstack((np.zeros((6, 3)), directions, directions))\n",
    "gtab = gradient_table(bvals, bvecs)"
   ]
  },
  {
   "cell_type": "markdown",
   "metadata": {},
   "source": [
    "Defining the ground truth values of tissue and water diffusion..."
   ]
  },
  {
   "cell_type": "code",
   "execution_count": 3,
   "metadata": {
    "collapsed": true
   },
   "outputs": [],
   "source": [
    "# free water component\n",
    "VF = np.linspace(0, 100, num=11)\n",
    "Dwater = 3e-3\n",
    "\n",
    "# tissue component\n",
    "FA = np.array([0.71, 0.30, 0.22, 0.11, 0.])\n",
    "L1 = np.array([1.6e-3, 1.080e-3, 1.000e-3, 0.900e-3, 0.8e-03])\n",
    "L2 = np.array([0.5e-3, 0.695e-3, 0.725e-3, 0.763e-3, 0.8e-03])\n",
    "L3 = np.array([0.3e-3, 0.625e-3, 0.675e-3, 0.738e-3, 0.8e-03])\n",
    "\n",
    "# simulations are repeated for 120 different diffusion tensor's\n",
    "# directions (and each direction repeated 100 times)\n",
    "nDTdirs = 120\n",
    "theta = np.pi * np.random.rand(nDTdirs)\n",
    "phi = 2 * np.pi * np.random.rand(nDTdirs)\n",
    "hsph_initial = HemiSphere(theta=theta, phi=phi)\n",
    "hsph_updated, potential = disperse_charges(hsph_initial, 5000)\n",
    "DTdirs = hsph_updated.vertices # directions for each shell\n",
    "\n",
    "nrep = 100  # number of repetitions for each direction"
   ]
  },
  {
   "cell_type": "markdown",
   "metadata": {},
   "source": [
    "Generating simulations"
   ]
  },
  {
   "cell_type": "code",
   "execution_count": 4,
   "metadata": {
    "collapsed": false
   },
   "outputs": [
    {
     "name": "stdout",
     "output_type": "stream",
     "text": [
      "100.000000%"
     ]
    }
   ],
   "source": [
    "DWI_simulates = np.empty((FA.size, VF.size, nrep * nDTdirs,\n",
    "                          bvals.size))\n",
    "\n",
    "for fa_i in range(FA.size):\n",
    "    mevals = np.array([[L1[fa_i], L2[fa_i], L3[fa_i]],\n",
    "                       [Dwater, Dwater, Dwater]])\n",
    "    for vf_i in range(VF.size):\n",
    "        fractions = [100 - VF[vf_i], VF[vf_i]]\n",
    "        for di in range(nDTdirs):\n",
    "            d = DTdirs[di]\n",
    "            for s_i in np.arange(di * nrep, (di+1) * nrep):\n",
    "                signal, sticks = multi_tensor(gtab, mevals,\n",
    "                                              S0=100,\n",
    "                                              angles=[d, (1, 0, 0)],\n",
    "                                              fractions=fractions,\n",
    "                                              snr=SNR)\n",
    "                DWI_simulates[fa_i, vf_i, s_i, :] = signal\n",
    "    prog = (fa_i+1.0) / FA.size * 100\n",
    "    time.sleep(1)\n",
    "    sys.stdout.write(\"\\r%f%%\" % prog)\n",
    "    sys.stdout.flush()"
   ]
  },
  {
   "cell_type": "markdown",
   "metadata": {},
   "source": [
    "Fitting the free water DTI model"
   ]
  },
  {
   "cell_type": "code",
   "execution_count": 5,
   "metadata": {
    "collapsed": false
   },
   "outputs": [
    {
     "name": "stdout",
     "output_type": "stream",
     "text": [
      "This step took 1555.363000 seconds to run\n"
     ]
    },
    {
     "name": "stderr",
     "output_type": "stream",
     "text": [
      "C:\\Users\\Rafael\\Anaconda\\lib\\site-packages\\scipy\\optimize\\minpack.py:427: RuntimeWarning: Number of calls to function has reached maxfev = 1800.\n",
      "  warnings.warn(errors[info][0], RuntimeWarning)\n"
     ]
    }
   ],
   "source": [
    "t0 = time.time()\n",
    "# WLS procedures is used to estimate parameters initial guess\n",
    "fw_params = nls_fit_tensor(gtab, DWI_simulates, Diso=Dwater)\n",
    "dt = time.time() - t0\n",
    "print(\"This step took %f seconds to run\" % dt)"
   ]
  },
  {
   "cell_type": "markdown",
   "metadata": {},
   "source": [
    "Compute FA and f-value statistics and save results"
   ]
  },
  {
   "cell_type": "code",
   "execution_count": 6,
   "metadata": {
    "collapsed": false
   },
   "outputs": [
    {
     "name": "stderr",
     "output_type": "stream",
     "text": [
      "C:\\Users\\Rafael\\Anaconda\\lib\\site-packages\\matplotlib\\collections.py:590: FutureWarning: elementwise comparison failed; returning scalar instead, but in the future will perform elementwise comparison\n",
      "  if self._edgecolors == str('face'):\n"
     ]
    },
    {
     "data": {
      "image/png": "[encoded data removed]",
      "text/plain": [
       "<matplotlib.figure.Figure at 0x8da3668>"
      ]
     },
     "metadata": {},
     "output_type": "display_data"
    }
   ],
   "source": [
    "fig, axs = plt.subplots(nrows=2, ncols=2, figsize=(10, 10))\n",
    "\n",
    "evals = fw_params[..., :3]\n",
    "fa = dti.fractional_anisotropy(evals)\n",
    "f = fw_params[..., 12]\n",
    "\n",
    "median_fa = np.empty(VF.size)\n",
    "lower_p = np.empty(VF.size)\n",
    "upper_p = np.empty(VF.size)\n",
    "\n",
    "colors = {0: 'r', 1: 'magenta', 2: 'black', 3: 'b', 4: 'g'}\n",
    "\n",
    "axs[0, 0].set_ylim([-0.1, 1.2])\n",
    "axs[0, 0].set_xlim([-0.1, 1.2])\n",
    "for fa_i in range(FA.size):\n",
    "    for vf_i in range(VF.size):\n",
    "        median_fa[vf_i] = np.median(fa[fa_i, vf_i, :])\n",
    "        p25, p75 = np.percentile(fa[fa_i, vf_i, :], [25 ,75])\n",
    "        lower_p[vf_i] = median_fa[vf_i] - p25 \n",
    "        lower_p[vf_i] = p75 - median_fa[vf_i]\n",
    "    axs[0, 0].errorbar(VF/100, median_fa, fmt='.',\n",
    "                       yerr=[lower_p, lower_p],\n",
    "                       color=colors[fa_i],\n",
    "                       ecolor=colors[fa_i],\n",
    "                       linewidth=1.0,\n",
    "                       label='$FA: %.2f$' % FA[fa_i])\n",
    "axs[0, 0].set_xlabel('Simulated f-value')\n",
    "axs[0, 0].set_ylabel('Estimated FA')\n",
    "axs[0, 0].legend(loc='center left', bbox_to_anchor=(1, 0.5))\n",
    "\n",
    "axs[0, 1].axis('off')\n",
    "\n",
    "median_f = np.empty(VF.size)\n",
    "lower_p = np.empty(VF.size)\n",
    "upper_p = np.empty(VF.size)\n",
    "\n",
    "for idx, fa_i in enumerate([0, 4]):\n",
    "    for vf_i in range(VF.size):\n",
    "        median_f[vf_i] = np.median(f[fa_i, vf_i, :])\n",
    "        p25, p75 = np.percentile(f[fa_i, vf_i, :], [25 ,75])\n",
    "        lower_p[vf_i] = median_f[vf_i] - p25 \n",
    "        lower_p[vf_i] = p75 - median_f[vf_i]\n",
    "    axs[1, idx].errorbar(VF/100, median_f, fmt='.',\n",
    "                      yerr=[lower_p, lower_p],\n",
    "                      color=colors[fa_i],\n",
    "                      ecolor=colors[fa_i],\n",
    "                      linewidth=3.0,\n",
    "                      label='$FA: %.2f$' % FA[fa_i])\n",
    "    # plot ground truth lines\n",
    "    axs[1, idx].plot([0, 1], [0, 1], 'b', label = 'Simulated f-value')\n",
    "    axs[1, idx].legend(loc='upper left')\n",
    "    axs[1, idx].set_ylim([-0.1, 1.2])\n",
    "    axs[1, idx].set_xlim([-0.1, 1.2])\n",
    "    axs[1, idx].set_xlabel('Simulated f-value')\n",
    "    axs[1, idx].set_ylabel('Estimated f-value')\n",
    "\n",
    "fig.savefig('fwdti_simulations.png')"
   ]
  },
  {
   "cell_type": "markdown",
   "metadata": {},
   "source": [
    "Done"
   ]
  },
  {
   "cell_type": "code",
   "execution_count": null,
   "metadata": {
    "collapsed": true
   },
   "outputs": [],
   "source": []
  }
 ],
 "metadata": {
  "kernelspec": {
   "display_name": "Python 2",
   "language": "python",
   "name": "python2"
  },
  "language_info": {
   "codemirror_mode": {
    "name": "ipython",
    "version": 2
   },
   "file_extension": ".py",
   "mimetype": "text/x-python",
   "name": "python",
   "nbconvert_exporter": "python",
   "pygments_lexer": "ipython2",
   "version": "2.7.11"
  }
 },
 "nbformat": 4,
 "nbformat_minor": 0
}
